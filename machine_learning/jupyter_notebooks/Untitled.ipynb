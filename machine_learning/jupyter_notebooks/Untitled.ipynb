{
 "cells": [
  {
   "cell_type": "code",
   "execution_count": 14,
   "metadata": {},
   "outputs": [
    {
     "name": "stdout",
     "output_type": "stream",
     "text": [
      "[4, 6, 0, 0, 0, 9, 9, 6, 2, 4, 9, 4, 1, 5, 2, 1, 5, 7, 4, 0, 3, 1, 2, 4, 2, 2, 6, 9, 3, 3, 1, 5, 3, 6, 10, 10, 10, 6, 1, 9, 10, 8, 7, 1, 1, 6, 10, 8, 5, 5, 6, 1, 4, 6, 9, 10, 3, 10, 2, 1, 4, 9, 4, 8, 7, 2, 2, 7, 3, 0, 2, 1, 10, 7, 1, 7, 7, 7, 8, 6, 2, 0, 1, 10, 5, 7, 7, 1, 6, 9, 2, 8, 3, 1, 1, 6, 10, 10, 7, 7, 4, 7, 5, 5, 5, 2, 0, 7, 8, 10, 9, 1, 1, 3, 7, 10, 7, 1, 8, 0, 4, 1, 5, 1, 2, 6, 1, 0, 5, 5, 6, 6, 9, 6, 4, 0, 10, 8, 10, 8, 0, 3, 10, 5, 1, 1, 7, 6, 5, 3, 8, 5, 1, 3, 1, 4, 5, 3, 6, 3, 8, 6, 2, 6, 10, 2, 6, 10, 10, 7, 5, 8, 8, 8, 0, 0, 10, 10, 7, 0, 1, 10, 2, 4, 1, 10, 5, 6, 8, 8, 9, 0, 0, 10, 6, 7, 2, 9, 8, 5, 6, 6, 7, 9, 4, 10, 4, 7, 3, 1, 9, 3, 1, 10, 5, 2, 1, 3, 3, 7, 0, 6, 2, 9, 6, 3, 4, 6, 8, 1, 8, 5, 7, 4, 0, 4, 7, 8, 4, 9, 1, 6, 4, 2, 1, 0, 1, 4, 9, 3, 2, 2, 5, 4, 5, 3, 9, 6, 7, 2, 0, 4, 8, 2, 9, 3, 4, 6, 8, 1, 7, 4, 6, 2, 3, 10, 0, 4, 4, 6, 4, 2, 5, 8, 3, 9, 5, 6, 7, 10, 6, 5, 7, 2, 3, 7, 2, 6, 2, 10, 9, 3, 9, 10, 6, 4, 4, 0, 5, 7, 1, 2, 4, 10, 10, 0, 10, 9, 8, 3, 10, 4, 4, 8, 2, 2, 7, 4, 10, 2, 5, 8, 0, 6, 7, 10, 10, 9, 8, 3, 2, 4, 10, 6, 2, 9, 6, 8, 0, 3, 8, 5, 4, 9, 6, 7, 6, 3, 6, 2, 6, 1, 3, 3, 10, 8, 2, 6, 3, 0, 4, 8, 8, 10, 2, 3, 10, 3, 9, 4, 0, 5, 5, 10, 2, 6, 7, 10, 6, 3, 2, 6, 3, 0, 8, 0, 0, 10, 0, 3, 0, 9, 1, 8, 0, 6, 2, 5, 4, 6, 7, 2, 9, 4, 1, 4, 5, 10, 2, 2, 10, 10, 6, 0, 2, 0, 0, 9, 5, 6, 9, 3, 6, 7, 8, 6, 6, 5, 1, 7, 2, 8, 9, 10, 8, 10, 7, 5, 7, 4, 8, 2, 3, 6, 6, 5, 3, 4, 10, 4, 4, 6, 8, 9, 2, 3, 5, 7, 6, 3, 6, 4, 1, 3, 3, 1, 8, 8, 6, 10, 5, 2, 3, 6, 2, 10, 3, 5, 8, 10, 4, 8, 5, 3, 4, 8, 6, 10, 5, 10, 7, 3, 4, 8, 10, 8, 0, 6, 6, 9, 1, 4, 1, 0, 8, 6, 9, 2, 4, 6, 3, 10, 7, 6, 8, 9, 5, 1, 8, 0, 2, 5, 10, 2, 3, 5, 9, 3, 5, 8, 1, 8, 5, 6, 1, 10, 4, 8, 10, 8, 8, 5, 9, 6, 3, 5, 0, 0, 4, 5, 4, 10, 2, 9, 5, 4, 8, 3, 8, 8, 2, 10, 5, 3, 3, 2, 5, 8, 9, 10, 5, 9, 3, 7, 2, 4, 4, 4, 9, 5, 1, 7, 2, 2, 1, 5, 6, 8, 10, 4, 10, 1, 5, 5, 10, 7, 4, 8, 7, 10, 3, 1, 0, 7, 6, 5, 9, 2, 4, 9, 10, 6, 3, 4, 5, 6, 4, 8, 9, 8, 2, 1, 8, 9, 6, 3, 5, 7, 1, 10, 0, 7, 3, 3, 1, 4, 3, 4, 3, 6, 1, 4, 2, 10, 4, 9, 10, 9, 1, 2, 8, 6, 8, 2, 1, 0, 6, 10, 10, 9, 2, 8, 0, 10, 2, 2, 2, 6, 9, 0, 1, 2, 8, 1, 1, 2, 4, 3, 1, 8, 4, 7, 1, 9, 1, 7, 3, 10, 6, 1, 6, 10, 1, 3, 0, 0, 2, 8, 10, 4, 2, 3, 3, 7, 8, 6, 0, 7, 1, 2, 2, 9, 5, 3, 0, 6, 10, 1, 8, 7, 5, 7, 10, 2, 8, 0, 3, 2, 6, 10, 2, 1, 6, 6, 3, 4, 0, 2, 0, 4, 4, 0, 2, 10, 6, 7, 10, 7, 10, 1, 6, 8, 1, 9, 8, 3, 3, 1, 4, 5, 8, 2, 7, 5, 8, 7, 6, 5, 2, 7, 6, 10, 2, 8, 4, 6, 4, 2, 2, 1, 9, 2, 6, 5, 3, 8, 8, 2, 1, 2, 10, 7, 8, 8, 9, 10, 4, 5, 5, 6, 0, 9, 2, 7, 3, 6, 10, 6, 10, 5, 0, 6, 0, 3, 1, 10, 5, 4, 3, 4, 9, 2, 9, 1, 1, 0, 3, 8, 8, 7, 6, 2, 0, 4, 3, 3, 0, 7, 2, 4, 3, 8, 4, 1, 2, 7, 6, 1, 5, 0, 6, 10, 3, 8, 0, 8, 2, 7, 7, 3, 2, 4, 7, 5, 4, 5, 3, 1, 3, 8, 2, 7, 2, 5, 9, 8, 4, 4, 7, 0, 5, 4, 5, 3, 10, 10, 9, 3, 7, 6, 1, 3, 0, 0, 3, 10, 7, 9, 8, 1, 3, 3, 9, 2, 4, 10, 3, 2, 2, 2, 10, 7, 7, 7, 2, 5, 8, 3, 0, 0, 0, 6, 8, 4, 3, 6, 6, 5, 6, 1, 5, 2, 4, 10, 4, 10, 7, 1, 8, 10, 2, 6, 5, 0, 2, 1, 9, 0, 2, 8, 7, 3, 9, 4, 0, 9, 4, 10, 2, 10, 2, 5, 0, 8, 10, 6, 10, 2, 8, 10, 5, 4, 2, 6, 0, 8, 3, 9, 5, 4, 1, 2, 2, 6, 7, 1, 9, 0, 3, 1]\n",
      "[40, 38, 35, 61, 61, 52, 46, 56, 48, 55, 53, 47, 30, 67, 41, 39, 67, 56, 55, 56, 57, 44, 45, 56, 31, 45, 45, 46, 59, 50, 57, 57, 53, 66, 50, 56, 42, 61, 54, 32, 41, 46, 48, 58, 70, 51, 53, 50, 54, 63, 61, 41, 57, 52, 61, 45, 61, 57, 52, 46, 67, 46, 63, 52, 34, 52, 60, 41, 31, 49, 44, 39, 51, 53, 28, 57, 48, 57, 45, 46, 72, 58, 36, 48, 31, 37, 54, 42, 48, 62, 42, 40, 49, 45, 61, 35, 58, 61, 46, 32]\n",
      "[1, 5, 4, 3, 2]\n",
      "[1, 2, 3, 4, 5]\n",
      "[1]\n",
      "[474, 488, 543, 466, 470, 486, 522, 556, 488, 503]\n",
      "[476, 489, 506, 523, 526, 513, 509, 450, 488, 516]\n",
      "[510, 490, 512, 476, 477, 476, 535, 480, 504, 536]\n",
      "[445, 485, 488, 515, 512, 475, 511, 515, 510, 540]\n",
      "[561, 458, 465, 535, 518, 533, 487, 451, 503, 485]\n",
      "[468, 483, 516, 505, 466, 487, 562, 461, 513, 535]\n",
      "[536, 457, 544, 503, 521, 520, 443, 491, 508, 473]\n",
      "[510, 478, 467, 498, 459, 492, 484, 562, 538, 508]\n",
      "[486, 519, 499, 483, 472, 535, 467, 457, 538, 540]\n",
      "[520, 465, 438, 527, 428, 533, 498, 543, 475, 569]\n"
     ]
    }
   ],
   "source": [
    "import random\n",
    "\n",
    "rand_numbers = []\n",
    "\n",
    "for i in range(1000):\n",
    "    rand_numbers.append(random.randint(0,10))\n",
    "\n",
    "print rand_numbers\n",
    "\n",
    "\n",
    "def compute_minibatch_sums(numbers, batch_size):\n",
    "  batch_sums = []\n",
    "  if len(numbers) < batch_size:\n",
    "      batch_sums.append(sum(numbers))\n",
    "  else:\n",
    "      for i in range(len(numbers)/batch_size): \n",
    "        batch_sums.append(sum(numbers[i*batch_size:(i+1)*batch_size]))\n",
    "\n",
    "      if len(numbers) % batch_size != 0:\n",
    "        batch_sums.append(sum(numbers[(i+1)*batch_size:]))\n",
    "\n",
    "  return batch_sums\n",
    "\n",
    "def compute_minibatch_sums2(numbers, batch_size):\n",
    "  batch_sums = []\n",
    "  numbers_length = len(numbers)\n",
    "  start_index = 0\n",
    "  end_index = min(start_index + batch_size, numbers_length)\n",
    "    \n",
    "  while (start_index < numbers_length):\n",
    "    print start_index, end_index\n",
    "    batch_sums.append(sum(numbers[start_index:end_index]))\n",
    "    start_index += batch_size\n",
    "    end_index = min(start_index+batch_size, numbers_length)\n",
    "    \n",
    "  return batch_sums\n",
    "\n",
    "'''\n",
    "-- To shuffle an array a of n elements (indices 0..n-1):\n",
    "for i from 0 to n−2 do\n",
    "     j ← random integer such that i ≤ j < n\n",
    "     exchange a[i] and a[j]\n",
    "'''\n",
    "import copy\n",
    "\n",
    "def yates_shuffle(a):\n",
    "    n = len(a)\n",
    "    b = copy.deepcopy(a) \n",
    "    for i in range(n-1):\n",
    "        j = random.randint(i, n-1)\n",
    "        old_value = b[i]\n",
    "        b[i] = b[j]\n",
    "        b[j] = old_value\n",
    "    return b\n",
    "    \n",
    "\n",
    "print compute_minibatch_sums(rand_numbers, 10)\n",
    "\n",
    "my_list = [1, 2, 3, 4, 5]\n",
    "print yates_shuffle(my_list)\n",
    "print my_list\n",
    "print yates_shuffle([1])\n",
    "\n",
    "permutation_counts = {}\n",
    "'''\n",
    "for i in range(100000):\n",
    "    shuffled_tuple = tuple(yates_shuffle(my_list))\n",
    "    if shuffled_tuple in permutation_counts:\n",
    "        permutation_counts[shuffled_tuple] += 1\n",
    "    else:\n",
    "        permutation_counts[shuffled_tuple] = 1        \n",
    "\n",
    "print len(permutation_counts.keys())\n",
    "for k in sorted(permutation_counts.keys()):\n",
    "    print k, ':', permutation_counts[k]\n",
    "'''\n",
    "\n",
    "for i in range(10):\n",
    "    rand_numbers_shuffled = yates_shuffle(rand_numbers)\n",
    "    print compute_minibatch_sums(rand_numbers_shuffled, 100)\n",
    "\n",
    "    "
   ]
  },
  {
   "cell_type": "code",
   "execution_count": null,
   "metadata": {
    "collapsed": true
   },
   "outputs": [],
   "source": []
  },
  {
   "cell_type": "code",
   "execution_count": null,
   "metadata": {
    "collapsed": true
   },
   "outputs": [],
   "source": []
  }
 ],
 "metadata": {
  "kernelspec": {
   "display_name": "Python 2",
   "language": "python",
   "name": "python2"
  },
  "language_info": {
   "codemirror_mode": {
    "name": "ipython",
    "version": 2
   },
   "file_extension": ".py",
   "mimetype": "text/x-python",
   "name": "python",
   "nbconvert_exporter": "python",
   "pygments_lexer": "ipython2",
   "version": "2.7.13"
  }
 },
 "nbformat": 4,
 "nbformat_minor": 2
}
